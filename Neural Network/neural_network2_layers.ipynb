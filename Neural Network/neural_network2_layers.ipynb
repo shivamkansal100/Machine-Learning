{
 "cells": [
  {
   "cell_type": "code",
   "execution_count": 1,
   "metadata": {},
   "outputs": [],
   "source": [
    "import numpy as np"
   ]
  },
  {
   "cell_type": "code",
   "execution_count": 2,
   "metadata": {},
   "outputs": [],
   "source": [
    "def sig(z):\n",
    "    return 1/(1 + np.exp(-z))"
   ]
  },
  {
   "cell_type": "code",
   "execution_count": 3,
   "metadata": {},
   "outputs": [],
   "source": [
    "def derivativeOfSig(z):\n",
    "    sigZ = sig(z)\n",
    "    return sigZ*(1 - sigZ)"
   ]
  },
  {
   "cell_type": "code",
   "execution_count": 5,
   "metadata": {},
   "outputs": [
    {
     "data": {
      "text/plain": [
       "((4, 2), (4, 1))"
      ]
     },
     "execution_count": 5,
     "metadata": {},
     "output_type": "execute_result"
    }
   ],
   "source": [
    "X = np.array([[0,0], [0,1], [1,0], [1,1]])\n",
    "Y = np.array([[0,0,0,1]]).T\n",
    "X.shape, Y.shape"
   ]
  },
  {
   "cell_type": "code",
   "execution_count": 42,
   "metadata": {},
   "outputs": [
    {
     "data": {
      "text/plain": [
       "(array([[ 0.04071071],\n",
       "        [-0.43667669]]), array([0.36676311]))"
      ]
     },
     "execution_count": 42,
     "metadata": {},
     "output_type": "execute_result"
    }
   ],
   "source": [
    "# no hidden layer weights\n",
    "weights = 2* np.random.random((2, 1)) - 1\n",
    "bias = 2 * np.random.random(1) - 1\n",
    "lr = 0.1\n",
    "weights, bias"
   ]
  },
  {
   "cell_type": "code",
   "execution_count": 48,
   "metadata": {},
   "outputs": [
    {
     "data": {
      "text/plain": [
       "(array([[6.72189344],\n",
       "        [6.72189344]]), array([-10.17148935]), array([[3.82438577e-05],\n",
       "        [3.07809125e-02],\n",
       "        [3.07809125e-02],\n",
       "        [9.63466129e-01]]))"
      ]
     },
     "execution_count": 48,
     "metadata": {},
     "output_type": "execute_result"
    }
   ],
   "source": [
    "#forward propogation without any hidden layer\n",
    "for iter in range(10000):    \n",
    "    output0 = X\n",
    "    output = sig(np.dot(output0,weights) + bias)\n",
    "    firstTerm = output - Y\n",
    "    input_for_last_layer = np.dot(output0,weights) + bias\n",
    "    secondTerm = derivativeOfSig(input_for_last_layer)\n",
    "    firstTwoTerms = firstTerm*secondTerm\n",
    "    changes = np.array([[0.0],[0.0]])\n",
    "    for i in range(2):\n",
    "        for j in range(4):\n",
    "            changes[i][0] += firstTwoTerms[j][0]*output0[j][i]\n",
    "    weights = weights - lr*changes\n",
    "    bias_change = 0.0\n",
    "    for j in range(4):\n",
    "        bias_change += firstTwoTerms[j][0]*1\n",
    "    bias = bias - lr*bias_change\n",
    "output = sig(np.dot(X,weights) + bias)\n",
    "weights,bias,output"
   ]
  },
  {
   "cell_type": "code",
   "execution_count": null,
   "metadata": {},
   "outputs": [],
   "source": []
  }
 ],
 "metadata": {
  "kernelspec": {
   "display_name": "Python 3",
   "language": "python",
   "name": "python3"
  },
  "language_info": {
   "codemirror_mode": {
    "name": "ipython",
    "version": 3
   },
   "file_extension": ".py",
   "mimetype": "text/x-python",
   "name": "python",
   "nbconvert_exporter": "python",
   "pygments_lexer": "ipython3",
   "version": "3.7.0"
  }
 },
 "nbformat": 4,
 "nbformat_minor": 2
}
