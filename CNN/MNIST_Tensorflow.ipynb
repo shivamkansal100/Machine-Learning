{
 "cells": [
  {
   "cell_type": "code",
   "execution_count": 1,
   "metadata": {
    "collapsed": true
   },
   "outputs": [],
   "source": [
    "import numpy as np    \n",
    "import tensorflow as tf"
   ]
  },
  {
   "cell_type": "code",
   "execution_count": 2,
   "metadata": {},
   "outputs": [
    {
     "name": "stdout",
     "output_type": "stream",
     "text": [
      "WARNING:tensorflow:From <ipython-input-2-e7c576f16b60>:2: read_data_sets (from tensorflow.contrib.learn.python.learn.datasets.mnist) is deprecated and will be removed in a future version.\n",
      "Instructions for updating:\n",
      "Please use alternatives such as official/mnist/dataset.py from tensorflow/models.\n",
      "WARNING:tensorflow:From C:\\Users\\vibhu\\Anaconda3\\envs\\ml\\lib\\site-packages\\tensorflow\\contrib\\learn\\python\\learn\\datasets\\mnist.py:260: maybe_download (from tensorflow.contrib.learn.python.learn.datasets.base) is deprecated and will be removed in a future version.\n",
      "Instructions for updating:\n",
      "Please write your own downloading logic.\n",
      "WARNING:tensorflow:From C:\\Users\\vibhu\\Anaconda3\\envs\\ml\\lib\\site-packages\\tensorflow\\contrib\\learn\\python\\learn\\datasets\\mnist.py:262: extract_images (from tensorflow.contrib.learn.python.learn.datasets.mnist) is deprecated and will be removed in a future version.\n",
      "Instructions for updating:\n",
      "Please use tf.data to implement this functionality.\n",
      "Extracting MNIST_data/train-images-idx3-ubyte.gz\n",
      "WARNING:tensorflow:From C:\\Users\\vibhu\\Anaconda3\\envs\\ml\\lib\\site-packages\\tensorflow\\contrib\\learn\\python\\learn\\datasets\\mnist.py:267: extract_labels (from tensorflow.contrib.learn.python.learn.datasets.mnist) is deprecated and will be removed in a future version.\n",
      "Instructions for updating:\n",
      "Please use tf.data to implement this functionality.\n",
      "Extracting MNIST_data/train-labels-idx1-ubyte.gz\n",
      "WARNING:tensorflow:From C:\\Users\\vibhu\\Anaconda3\\envs\\ml\\lib\\site-packages\\tensorflow\\contrib\\learn\\python\\learn\\datasets\\mnist.py:110: dense_to_one_hot (from tensorflow.contrib.learn.python.learn.datasets.mnist) is deprecated and will be removed in a future version.\n",
      "Instructions for updating:\n",
      "Please use tf.one_hot on tensors.\n",
      "Extracting MNIST_data/t10k-images-idx3-ubyte.gz\n",
      "Extracting MNIST_data/t10k-labels-idx1-ubyte.gz\n",
      "WARNING:tensorflow:From C:\\Users\\vibhu\\Anaconda3\\envs\\ml\\lib\\site-packages\\tensorflow\\contrib\\learn\\python\\learn\\datasets\\mnist.py:290: DataSet.__init__ (from tensorflow.contrib.learn.python.learn.datasets.mnist) is deprecated and will be removed in a future version.\n",
      "Instructions for updating:\n",
      "Please use alternatives such as official/mnist/dataset.py from tensorflow/models.\n"
     ]
    }
   ],
   "source": [
    "from tensorflow.examples.tutorials.mnist import input_data\n",
    "mnist = input_data.read_data_sets(\"MNIST_data/\", one_hot = True)"
   ]
  },
  {
   "cell_type": "code",
   "execution_count": 3,
   "metadata": {},
   "outputs": [
    {
     "data": {
      "text/plain": [
       "((55000, 784), (55000, 10))"
      ]
     },
     "execution_count": 3,
     "metadata": {},
     "output_type": "execute_result"
    }
   ],
   "source": [
    "#input images (55000), each of dimension 28*28 with a single channel\n",
    "#one-hot encoded labels\n",
    "mnist.train.images.shape,mnist.train.labels.shape"
   ]
  },
  {
   "cell_type": "markdown",
   "metadata": {},
   "source": [
    "## Defining weights and biases and other parameters"
   ]
  },
  {
   "cell_type": "code",
   "execution_count": 4,
   "metadata": {},
   "outputs": [
    {
     "name": "stdout",
     "output_type": "stream",
     "text": [
      "WARNING:tensorflow:From C:\\Users\\vibhu\\Anaconda3\\envs\\ml\\lib\\site-packages\\tensorflow\\python\\framework\\op_def_library.py:263: colocate_with (from tensorflow.python.framework.ops) is deprecated and will be removed in a future version.\n",
      "Instructions for updating:\n",
      "Colocations handled automatically by placer.\n"
     ]
    }
   ],
   "source": [
    "#image info\n",
    "n_height = 28\n",
    "n_width = 28\n",
    "channels = 1\n",
    "pixels = n_height*n_width\n",
    "\n",
    "#convolution layers\n",
    "units_conv1 = 32\n",
    "units_conv2 = 64\n",
    "#units_conv3 = 64\n",
    "\n",
    "#filter dimension\n",
    "kernel_c1 = 5\n",
    "kernel_c2 = 3\n",
    "#kernel_c3 = 3\n",
    "\n",
    "#strides of convolution layers\n",
    "stride_c1 = 1\n",
    "strides_c2 = 1\n",
    "\n",
    "#pooling layers\n",
    "kernel_m1 = 2\n",
    "kernel_m2 = 2\n",
    "\n",
    "n_output = 10\n",
    "n_hidden = 1024\n",
    "\n",
    "#in our case (7,7,64)\n",
    "hidden_input = (n_width // (kernel_m1*kernel_m2)) * (n_height // (kernel_m1*kernel_m2)) * units_conv2 \n",
    "\n",
    "W = {\n",
    "    \n",
    "    'WC1' : tf.Variable(tf.random_normal([kernel_c1,kernel_c1,channels,units_conv1])),\n",
    "    'WC2' : tf.Variable(tf.random_normal([kernel_c2,kernel_c2,units_conv1,units_conv2])),\n",
    "    'WH' : tf.Variable(tf.random_normal([hidden_input,n_hidden])),\n",
    "    'WO' : tf.Variable(tf.random_normal([n_hidden,n_output]))\n",
    "}\n",
    "\n",
    "B = {\n",
    "    'BC1' : tf.Variable(tf.random_normal([units_conv1])),\n",
    "    'BC2' : tf.Variable(tf.random_normal([units_conv2])),\n",
    "    'BH' : tf.Variable(tf.random_normal([n_hidden])),\n",
    "    'BO' : tf.Variable(tf.random_normal([n_output])),\n",
    "}"
   ]
  },
  {
   "cell_type": "markdown",
   "metadata": {},
   "source": [
    "### Convolution layer"
   ]
  },
  {
   "cell_type": "code",
   "execution_count": 5,
   "metadata": {
    "collapsed": true
   },
   "outputs": [],
   "source": [
    "def conv(x,W,B,strides = 1):\n",
    "    c = tf.nn.conv2d(x,W,padding='SAME',strides=[1,strides,strides,1])\n",
    "    c = tf.nn.bias_add(c,B)\n",
    "    c = tf.nn.relu(c)\n",
    "    return c"
   ]
  },
  {
   "cell_type": "markdown",
   "metadata": {},
   "source": [
    "### Max pool layer"
   ]
  },
  {
   "cell_type": "code",
   "execution_count": 6,
   "metadata": {
    "collapsed": true
   },
   "outputs": [],
   "source": [
    "def maxPool(x,kernel = 2,strides = 2):\n",
    "    pool = tf.nn.max_pool(x,ksize=[1,kernel,kernel,1],strides=[1,strides,strides,1],padding='VALID')\n",
    "    return pool"
   ]
  },
  {
   "cell_type": "markdown",
   "metadata": {},
   "source": [
    "## Forward Propogation"
   ]
  },
  {
   "cell_type": "markdown",
   "metadata": {},
   "source": [
    "### Our Model:\n",
    "    - conv layer with 32 units\n",
    "    - max pool with kernel = 2\n",
    "    - conv layer with 64 units\n",
    "    - max pool with kernel = 2\n",
    "    - hidden layer with 1024 units\n",
    "    - output layer with 10 units(for 1-10 output)"
   ]
  },
  {
   "cell_type": "code",
   "execution_count": 7,
   "metadata": {
    "collapsed": true
   },
   "outputs": [],
   "source": [
    "def forward(x,W,B):\n",
    "    x = tf.reshape(x,[-1,n_width,n_height,channels])\n",
    "    c1 = conv(x,W['WC1'],B['BC1'],stride_c1)\n",
    "    c1_pool = maxPool(c1,kernel_m1)\n",
    "    \n",
    "    c2 = conv(c1_pool,W['WC2'],B['BC2'],strides_c2)\n",
    "    c2_pool = maxPool(c2,kernel_m2)\n",
    "    \n",
    "    hidden_in = tf.reshape(c2_pool,[-1,hidden_input])\n",
    "    z_hidden = tf.add(tf.matmul(hidden_in,W['WH']),B['BH'])\n",
    "    hidden_out = tf.nn.relu(z_hidden)\n",
    "    \n",
    "    output = tf.add(tf.matmul(hidden_out,W['WO']),B['BO'])\n",
    "    \n",
    "    return output"
   ]
  },
  {
   "cell_type": "code",
   "execution_count": 8,
   "metadata": {
    "collapsed": true
   },
   "outputs": [],
   "source": [
    "x = tf.placeholder(\"float\", [None, pixels])\n",
    "y = tf.placeholder(tf.int32, [None, n_output])\n",
    "pred = forward(x, W, B)"
   ]
  },
  {
   "cell_type": "code",
   "execution_count": 9,
   "metadata": {
    "collapsed": true
   },
   "outputs": [],
   "source": [
    "#cost\n",
    "cost = tf.reduce_mean(tf.nn.softmax_cross_entropy_with_logits_v2(logits=pred,labels=y))\n"
   ]
  },
  {
   "cell_type": "code",
   "execution_count": 10,
   "metadata": {},
   "outputs": [
    {
     "data": {
      "text/plain": [
       "[<tf.Variable 'Variable:0' shape=(5, 5, 1, 32) dtype=float32_ref>,\n",
       " <tf.Variable 'Variable_1:0' shape=(3, 3, 32, 64) dtype=float32_ref>,\n",
       " <tf.Variable 'Variable_2:0' shape=(3136, 1024) dtype=float32_ref>,\n",
       " <tf.Variable 'Variable_3:0' shape=(1024, 10) dtype=float32_ref>,\n",
       " <tf.Variable 'Variable_4:0' shape=(32,) dtype=float32_ref>,\n",
       " <tf.Variable 'Variable_5:0' shape=(64,) dtype=float32_ref>,\n",
       " <tf.Variable 'Variable_6:0' shape=(1024,) dtype=float32_ref>,\n",
       " <tf.Variable 'Variable_7:0' shape=(10,) dtype=float32_ref>]"
      ]
     },
     "execution_count": 10,
     "metadata": {},
     "output_type": "execute_result"
    }
   ],
   "source": [
    "tf.trainable_variables()"
   ]
  },
  {
   "cell_type": "code",
   "execution_count": 11,
   "metadata": {
    "collapsed": true
   },
   "outputs": [],
   "source": [
    "optimizer = tf.train.AdamOptimizer(learning_rate=0.02)\n",
    "optimize = optimizer.minimize(cost)"
   ]
  },
  {
   "cell_type": "code",
   "execution_count": 12,
   "metadata": {
    "collapsed": true
   },
   "outputs": [],
   "source": [
    "sess = tf.Session()\n",
    "#sess = tf.Session(config=tf.ConfigProto(device_count={'GPU': 0}))\n",
    "sess.run(tf.global_variables_initializer())\n",
    "    "
   ]
  },
  {
   "cell_type": "code",
   "execution_count": 13,
   "metadata": {},
   "outputs": [
    {
     "name": "stdout",
     "output_type": "stream",
     "text": [
      "1030057.2806085367\n",
      "16208.970570193786\n",
      "11091.667490085478\n",
      "8600.54240705022\n",
      "7623.44033175798\n",
      "5661.429063851742\n",
      "4483.154138681268\n",
      "3518.7280014080143\n",
      "2437.8584572807063\n",
      "2090.4111654885523\n",
      "2475.2364497979834\n",
      "865.0068956241296\n",
      "1395.403031199794\n",
      "884.3172889280404\n",
      "590.4094723644994\n",
      "627.8155071126237\n",
      "552.8733425714797\n",
      "311.3910928495265\n",
      "218.9455807376465\n",
      "226.1190361275269\n",
      "279.706555410291\n",
      "185.73051727114887\n",
      "194.1771504254575\n",
      "202.0022052564309\n",
      "163.8000511422615\n"
     ]
    }
   ],
   "source": [
    "#training\n",
    "batch_size = 64\n",
    "for i in range(25):\n",
    "    num_batches = int(mnist.train.num_examples/batch_size)\n",
    "    total_cost = 0\n",
    "    for j in range(num_batches):\n",
    "        batch_x, batch_y = mnist.train.next_batch(batch_size)\n",
    "        c, _ = sess.run([cost,optimize], feed_dict={x:batch_x , y:batch_y})\n",
    "        total_cost += c\n",
    "    print(total_cost)"
   ]
  },
  {
   "cell_type": "code",
   "execution_count": 14,
   "metadata": {},
   "outputs": [
    {
     "data": {
      "text/plain": [
       "TensorShape([Dimension(None), Dimension(10)])"
      ]
     },
     "execution_count": 14,
     "metadata": {},
     "output_type": "execute_result"
    }
   ],
   "source": [
    "pred.shape"
   ]
  },
  {
   "cell_type": "code",
   "execution_count": 15,
   "metadata": {},
   "outputs": [
    {
     "data": {
      "text/plain": [
       "9617"
      ]
     },
     "execution_count": 15,
     "metadata": {},
     "output_type": "execute_result"
    }
   ],
   "source": [
    "predictions = tf.argmax(pred, 1)\n",
    "correct_labels = tf.argmax(y, 1)\n",
    "correct_predictions = tf.equal(predictions, correct_labels)\n",
    "predictions,correct_predictions  = sess.run([predictions, correct_predictions], feed_dict={x:mnist.test.images,\n",
    "                                              y:mnist.test.labels})\n",
    "correct_predictions.sum()"
   ]
  },
  {
   "cell_type": "markdown",
   "metadata": {},
   "source": [
    "## Accuracy"
   ]
  },
  {
   "cell_type": "code",
   "execution_count": 23,
   "metadata": {},
   "outputs": [
    {
     "name": "stdout",
     "output_type": "stream",
     "text": [
      "Accuracy 0.96\n"
     ]
    }
   ],
   "source": [
    "acc = correct_predictions.sum()/len(mnist.test.labels)\n",
    "print(\"Accuracy %.2f\" %acc)"
   ]
  },
  {
   "cell_type": "code",
   "execution_count": null,
   "metadata": {
    "collapsed": true
   },
   "outputs": [],
   "source": []
  }
 ],
 "metadata": {
  "kernelspec": {
   "display_name": "Python 3",
   "language": "python",
   "name": "python3"
  },
  "language_info": {
   "codemirror_mode": {
    "name": "ipython",
    "version": 3
   },
   "file_extension": ".py",
   "mimetype": "text/x-python",
   "name": "python",
   "nbconvert_exporter": "python",
   "pygments_lexer": "ipython3",
   "version": "3.5.4"
  }
 },
 "nbformat": 4,
 "nbformat_minor": 2
}
